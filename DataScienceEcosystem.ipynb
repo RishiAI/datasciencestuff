{
 "cells": [
  {
   "cell_type": "markdown",
   "id": "14b0fccb-727f-415e-b229-4ca5073adf31",
   "metadata": {},
   "source": [
    "Data Science Tools and Ecosystem"
   ]
  },
  {
   "cell_type": "markdown",
   "id": "40be02cf-a39c-43a3-894a-0fcf1289cad6",
   "metadata": {},
   "source": [
    "In this notebook, Data Science Tools and Ecosystem are summarized.\n"
   ]
  },
  {
   "cell_type": "markdown",
   "id": "8bb50ed1-3acb-4b3d-b197-9e2a010fa6e1",
   "metadata": {},
   "source": [
    "Some of the popular languages that Data Scientists use are:\n",
    "1. Python \n",
    "2. R\n",
    "3. SQL\n",
    "Some of the commonly used libraries used by Data Scientists include:\n",
    "1. numPy\n",
    "2. TensorFlow\n",
    "3. PyTorch"
   ]
  },
  {
   "cell_type": "markdown",
   "id": "b18a9e25-da22-4e30-8c1a-ba7f67d500f1",
   "metadata": {},
   "source": [
    "# Exercise 6 - Data Science Tools Table\n",
    "\n",
    "| Data Science Tools |\n",
    "|--------------------|\n",
    "| Jupyter Notebooks  |\n",
    "| RStudio            |\n",
    "| VS Code            |\n"
   ]
  },
  {
   "cell_type": "markdown",
   "id": "0d14d91b-2002-4e67-a220-08a48d7c1594",
   "metadata": {},
   "source": [
    "### Exercise 7 - Arithmetic Expression Examples\n",
    "\n",
    "Below are a few examples of evaluating arithmetic expressions in Python.\n"
   ]
  },
  {
   "cell_type": "code",
   "execution_count": null,
   "id": "00e31799-f0b0-4e52-bf5a-8198afd46b3f",
   "metadata": {},
   "outputs": [],
   "source": [
    "# Exercise 8 - Multiply and Add Integers\n",
    "# This is a simple arithmetic expression to multiply then add integers.\n",
    "result = (3 * 4) + 5\n",
    "print(result)\n"
   ]
  },
  {
   "cell_type": "code",
   "execution_count": null,
   "id": "a0b69b07-89f0-45b7-a3fd-70709d3ce180",
   "metadata": {},
   "outputs": [],
   "source": [
    "# Exercise 9 - Convert Minutes to Hours\n",
    "# This will convert 200 minutes to hours by dividing by 60.\n",
    "minutes = 200\n",
    "hours = minutes / 60\n",
    "print(hours)\n"
   ]
  },
  {
   "cell_type": "code",
   "execution_count": null,
   "id": "0c708cbe-8b14-4aa1-9d26-fe4e27c426b4",
   "metadata": {},
   "outputs": [],
   "source": [
    "# Exercise 10 - Objectives\n",
    "\n",
    "**Objectives:**\n",
    "- List popular languages for Data Science\n",
    "- Introduce common libraries used in Data Science\n",
    "- Create a table of Data Science tools\n"
   ]
  },
  {
   "cell_type": "code",
   "execution_count": null,
   "id": "08e83eba-e631-439c-b17d-319b9152c8a8",
   "metadata": {},
   "outputs": [],
   "source": [
    "## Exercise 11 - Author\n",
    "\n",
    "Author: Hrishi Mehta\n"
   ]
  }
 ],
 "metadata": {
  "kernelspec": {
   "display_name": "Python",
   "language": "python",
   "name": "conda-env-python-py"
  },
  "language_info": {
   "codemirror_mode": {
    "name": "ipython",
    "version": 3
   },
   "file_extension": ".py",
   "mimetype": "text/x-python",
   "name": "python",
   "nbconvert_exporter": "python",
   "pygments_lexer": "ipython3",
   "version": "3.7.12"
  }
 },
 "nbformat": 4,
 "nbformat_minor": 5
}
